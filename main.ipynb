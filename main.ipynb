{
 "cells": [
  {
   "cell_type": "code",
   "execution_count": null,
   "metadata": {},
   "outputs": [],
   "source": [
    "#!git clone https://github.com/hasan-rakibul/MADE-for-ASD.git"
   ]
  },
  {
   "cell_type": "code",
   "execution_count": null,
   "metadata": {},
   "outputs": [],
   "source": [
    "%cd MADE-for-ASD"
   ]
  },
  {
   "cell_type": "code",
   "execution_count": null,
   "metadata": {},
   "outputs": [],
   "source": [
    "%%capture\n",
    "!pip install -r requirements.txt"
   ]
  },
  {
   "cell_type": "code",
   "execution_count": null,
   "metadata": {},
   "outputs": [],
   "source": [
    "#!python download_data.py"
   ]
  },
  {
   "cell_type": "code",
   "execution_count": null,
   "metadata": {},
   "outputs": [],
   "source": [
    "#!python prepare_data.py --folds=10 --whole cc200 aal ez ho tt"
   ]
  },
  {
   "cell_type": "code",
   "execution_count": 3,
   "metadata": {},
   "outputs": [
    {
     "name": "stdout",
     "output_type": "stream",
     "text": [
      "/opt/homebrew/Caskroom/miniconda/base/envs/abide/lib/python3.10/site-packages/sklearn/model_selection/_search.py:320: UserWarning: The total space of parameters 3 is smaller than n_iter=5. Running 3 iterations. For exhaustive searches, use GridSearchCV.\n",
      "  warnings.warn(\n",
      "/opt/homebrew/Caskroom/miniconda/base/envs/abide/lib/python3.10/site-packages/sklearn/model_selection/_search.py:320: UserWarning: The total space of parameters 3 is smaller than n_iter=5. Running 3 iterations. For exhaustive searches, use GridSearchCV.\n",
      "  warnings.warn(\n",
      "/opt/homebrew/Caskroom/miniconda/base/envs/abide/lib/python3.10/site-packages/sklearn/model_selection/_search.py:320: UserWarning: The total space of parameters 3 is smaller than n_iter=5. Running 3 iterations. For exhaustive searches, use GridSearchCV.\n",
      "  warnings.warn(\n",
      "/opt/homebrew/Caskroom/miniconda/base/envs/abide/lib/python3.10/site-packages/sklearn/model_selection/_search.py:320: UserWarning: The total space of parameters 3 is smaller than n_iter=5. Running 3 iterations. For exhaustive searches, use GridSearchCV.\n",
      "  warnings.warn(\n",
      "/opt/homebrew/Caskroom/miniconda/base/envs/abide/lib/python3.10/site-packages/sklearn/model_selection/_search.py:320: UserWarning: The total space of parameters 3 is smaller than n_iter=5. Running 3 iterations. For exhaustive searches, use GridSearchCV.\n",
      "  warnings.warn(\n",
      "/opt/homebrew/Caskroom/miniconda/base/envs/abide/lib/python3.10/site-packages/sklearn/model_selection/_search.py:320: UserWarning: The total space of parameters 3 is smaller than n_iter=5. Running 3 iterations. For exhaustive searches, use GridSearchCV.\n",
      "  warnings.warn(\n",
      "exp                      acc      prec    recall    fscore      sens      spec\n",
      "------------------  --------  --------  --------  --------  --------  --------\n",
      "aal_whole           0.648052  0.659495  0.667469  0.662399  0.667469  0.628279\n",
      "cc200_whole         0.690584  0.694736  0.715634  0.7042    0.715634  0.664902\n",
      "dosenbach160_whole  0.642208  0.639756  0.681035  0.658868  0.681035  0.603657\n",
      "ez_whole            0.653247  0.658531  0.673607  0.665002  0.673607  0.633715\n",
      "ho_whole            0.676299  0.691211  0.684739  0.687095  0.684739  0.667796\n",
      "tt_whole            0.645779  0.635236  0.67726   0.655284  0.67726   0.614118\n",
      "\n",
      "Best parameters for each experiment:\n",
      "Experiment: aal_whole, Best Parameters: {'C': 0.1}\n",
      "Experiment: cc200_whole, Best Parameters: {'C': 0.1}\n",
      "Experiment: dosenbach160_whole, Best Parameters: {'C': 10}\n",
      "Experiment: ez_whole, Best Parameters: {'C': 0.1}\n",
      "Experiment: ho_whole, Best Parameters: {'C': 0.1}\n",
      "Experiment: tt_whole, Best Parameters: {'C': 0.1}\n"
     ]
    }
   ],
   "source": [
    "!python classifier_ml.py --whole --classifier=logistic cc200 aal ez ho tt dosenbach160"
   ]
  },
  {
   "cell_type": "code",
   "execution_count": 4,
   "metadata": {},
   "outputs": [
    {
     "name": "stdout",
     "output_type": "stream",
     "text": [
      "exp                      acc      prec    recall    fscore      sens      spec\n",
      "------------------  --------  --------  --------  --------  --------  --------\n",
      "aal_whole           0.625974  0.638703  0.652538  0.643329  0.652538  0.60043\n",
      "cc200_whole         0.66039   0.66145   0.706615  0.681058  0.706615  0.61491\n",
      "dosenbach160_whole  0.599351  0.595731  0.69011   0.635123  0.69011   0.512553\n",
      "ez_whole            0.632792  0.635043  0.686222  0.654748  0.686222  0.585049\n",
      "ho_whole            0.637662  0.650749  0.661293  0.654514  0.661293  0.614155\n",
      "tt_whole            0.64026   0.626664  0.71147   0.662774  0.71147   0.575543\n",
      "\n",
      "Best parameters for each experiment:\n",
      "Experiment: aal_whole, Best Parameters: {'n_estimators': 100, 'max_depth': None}\n",
      "Experiment: cc200_whole, Best Parameters: {'n_estimators': 200, 'max_depth': None}\n",
      "Experiment: dosenbach160_whole, Best Parameters: {'n_estimators': 200, 'max_depth': 20}\n",
      "Experiment: ez_whole, Best Parameters: {'n_estimators': 100, 'max_depth': 10}\n",
      "Experiment: ho_whole, Best Parameters: {'n_estimators': 200, 'max_depth': None}\n",
      "Experiment: tt_whole, Best Parameters: {'n_estimators': 200, 'max_depth': None}\n"
     ]
    }
   ],
   "source": [
    "!python classifier_ml.py --whole --classifier=random_forest cc200 aal ez ho tt dosenbach160"
   ]
  },
  {
   "cell_type": "code",
   "execution_count": 5,
   "metadata": {},
   "outputs": [
    {
     "name": "stdout",
     "output_type": "stream",
     "text": [
      "/opt/homebrew/Caskroom/miniconda/base/envs/abide/lib/python3.10/site-packages/sklearn/model_selection/_search.py:320: UserWarning: The total space of parameters 3 is smaller than n_iter=5. Running 3 iterations. For exhaustive searches, use GridSearchCV.\n",
      "  warnings.warn(\n",
      "Scaler for aal_whole: [ 0.23302906  0.46048594  1.16666667 16.80456875], [0.22330629 0.23694085 0.372678   7.91279347]\n",
      "/opt/homebrew/Caskroom/miniconda/base/envs/abide/lib/python3.10/site-packages/sklearn/model_selection/_search.py:320: UserWarning: The total space of parameters 3 is smaller than n_iter=5. Running 3 iterations. For exhaustive searches, use GridSearchCV.\n",
      "  warnings.warn(\n",
      "Scaler for cc200_whole: [ 0.01830293 -0.05343978  1.16826923 16.85848974], [0.16563236 0.19000217 0.37410519 7.81421522]\n",
      "/opt/homebrew/Caskroom/miniconda/base/envs/abide/lib/python3.10/site-packages/sklearn/model_selection/_search.py:320: UserWarning: The total space of parameters 3 is smaller than n_iter=5. Running 3 iterations. For exhaustive searches, use GridSearchCV.\n",
      "  warnings.warn(\n",
      "Scaler for dosenbach160_whole: [-1.27412103e-02 -2.99462013e-02  1.17467949e+00  1.69283886e+01], [0.15145596 0.15685617 0.37969272 8.14457337]\n",
      "/opt/homebrew/Caskroom/miniconda/base/envs/abide/lib/python3.10/site-packages/sklearn/model_selection/_search.py:320: UserWarning: The total space of parameters 3 is smaller than n_iter=5. Running 3 iterations. For exhaustive searches, use GridSearchCV.\n",
      "  warnings.warn(\n",
      "Scaler for ez_whole: [ 0.32360328  0.44728671  1.16987179 16.6741141 ], [0.23605223 0.23363873 0.37552013 8.05592113]\n",
      "/opt/homebrew/Caskroom/miniconda/base/envs/abide/lib/python3.10/site-packages/sklearn/model_selection/_search.py:320: UserWarning: The total space of parameters 3 is smaller than n_iter=5. Running 3 iterations. For exhaustive searches, use GridSearchCV.\n",
      "  warnings.warn(\n",
      "Scaler for ho_whole: [ 0.1553378   0.73131877  1.16185897 16.68804375], [0.18762518 0.14826393 0.36832139 7.55544637]\n",
      "/opt/homebrew/Caskroom/miniconda/base/envs/abide/lib/python3.10/site-packages/sklearn/model_selection/_search.py:320: UserWarning: The total space of parameters 3 is smaller than n_iter=5. Running 3 iterations. For exhaustive searches, use GridSearchCV.\n",
      "  warnings.warn(\n",
      "Scaler for tt_whole: [ 0.45587795  0.35865466  1.15705128 16.7289875 ], [0.1639275  0.18011251 0.36384911 8.038362  ]\n",
      "exp                      acc      prec    recall    fscore      sens      spec\n",
      "------------------  --------  --------  --------  --------  --------  --------\n",
      "aal_whole           0.649026  0.659263  0.672459  0.664795  0.672459  0.625139\n",
      "cc200_whole         0.688636  0.69407   0.709908  0.70124   0.709908  0.666721\n",
      "dosenbach160_whole  0.643182  0.641299  0.681256  0.659407  0.681256  0.605732\n",
      "ez_whole            0.656818  0.661886  0.678081  0.668621  0.678081  0.637147\n",
      "ho_whole            0.679545  0.69444   0.685874  0.689421  0.685874  0.673132\n",
      "tt_whole            0.65      0.640917  0.675146  0.657275  0.675146  0.624837\n",
      "\n",
      "Best parameters for each experiment:\n",
      "Experiment: aal_whole, Best Parameters: {'C': 0.1}\n",
      "Experiment: cc200_whole, Best Parameters: {'C': 10}\n",
      "Experiment: dosenbach160_whole, Best Parameters: {'C': 10}\n",
      "Experiment: ez_whole, Best Parameters: {'C': 0.1}\n",
      "Experiment: ho_whole, Best Parameters: {'C': 0.1}\n",
      "Experiment: tt_whole, Best Parameters: {'C': 0.1}\n"
     ]
    }
   ],
   "source": [
    "!python classifier_ml.py --whole --classifier=logistic cc200 aal ez ho tt dosenbach160 --use-phenotypic  "
   ]
  },
  {
   "cell_type": "code",
   "execution_count": 6,
   "metadata": {},
   "outputs": [
    {
     "name": "stdout",
     "output_type": "stream",
     "text": [
      "exp                      acc      prec    recall    fscore      sens      spec\n",
      "------------------  --------  --------  --------  --------  --------  --------\n",
      "aal_whole           0.636039  0.643403  0.685344  0.66029   0.685344  0.587535\n",
      "cc200_whole         0.660065  0.66365   0.696855  0.67782   0.696855  0.624056\n",
      "dosenbach160_whole  0.609416  0.605033  0.696644  0.642813  0.696644  0.526831\n",
      "ez_whole            0.625649  0.631103  0.67231   0.645679  0.67231   0.585388\n",
      "ho_whole            0.651299  0.663696  0.674159  0.667154  0.674159  0.629196\n",
      "tt_whole            0.627273  0.616383  0.688044  0.646718  0.688044  0.572517\n",
      "\n",
      "Best parameters for each experiment:\n",
      "Experiment: aal_whole, Best Parameters: {'n_estimators': 200, 'max_depth': None}\n",
      "Experiment: cc200_whole, Best Parameters: {'n_estimators': 200, 'max_depth': 20}\n",
      "Experiment: dosenbach160_whole, Best Parameters: {'n_estimators': 200, 'max_depth': None}\n",
      "Experiment: ez_whole, Best Parameters: {'n_estimators': 200, 'max_depth': 20}\n",
      "Experiment: ho_whole, Best Parameters: {'n_estimators': 200, 'max_depth': 20}\n",
      "Experiment: tt_whole, Best Parameters: {'n_estimators': 200, 'max_depth': 20}\n"
     ]
    }
   ],
   "source": [
    "!python classifier_ml.py --whole --classifier=random_forest cc200 aal ez ho tt dosenbach160 --use-phenotypic   "
   ]
  },
  {
   "cell_type": "code",
   "execution_count": 10,
   "metadata": {},
   "outputs": [
    {
     "name": "stdout",
     "output_type": "stream",
     "text": [
      "Model saved as best_model_cc200_whole.joblib\n",
      "Model saved as best_model_aal_whole.joblib\n",
      "Model saved as best_model_ez_whole.joblib\n",
      "Model saved as best_model_ho_whole.joblib\n",
      "Model saved as best_model_tt_whole.joblib\n",
      "Traceback (most recent call last):\n",
      "  File \"/Users/sabrinebendimerad/Downloads/ABIDE-FMRI-ConnectivityMatrix_ML_DL/evaluate_classifier_ml.py\", line 137, in <module>\n",
      "    retrain_and_evaluate(hdf5_path, pheno_path, clf_type_dict, best_params_dict, use_phenotypic=True)\n",
      "  File \"/Users/sabrinebendimerad/Downloads/ABIDE-FMRI-ConnectivityMatrix_ML_DL/evaluate_classifier_ml.py\", line 72, in retrain_and_evaluate\n",
      "    metrics, scaler, clf = run(X_train_all, y_train_all, X_test_all, y_test_all, clf_type, best_params, use_phenotypic)\n",
      "  File \"/Users/sabrinebendimerad/Downloads/ABIDE-FMRI-ConnectivityMatrix_ML_DL/evaluate_classifier_ml.py\", line 40, in run\n",
      "    clf = get_classifier(clf_type, params)\n",
      "  File \"/Users/sabrinebendimerad/Downloads/ABIDE-FMRI-ConnectivityMatrix_ML_DL/evaluate_classifier_ml.py\", line 18, in get_classifier\n",
      "    return LogisticRegression(**params)\n",
      "TypeError: LogisticRegression.__init__() got an unexpected keyword argument 'n_estimators'\n"
     ]
    }
   ],
   "source": [
    "!python evaluate_classifier_ml.py"
   ]
  }
 ],
 "metadata": {
  "kernelspec": {
   "display_name": "abide",
   "language": "python",
   "name": "python3"
  },
  "language_info": {
   "codemirror_mode": {
    "name": "ipython",
    "version": 3
   },
   "file_extension": ".py",
   "mimetype": "text/x-python",
   "name": "python",
   "nbconvert_exporter": "python",
   "pygments_lexer": "ipython3",
   "version": "3.10.13"
  }
 },
 "nbformat": 4,
 "nbformat_minor": 2
}
