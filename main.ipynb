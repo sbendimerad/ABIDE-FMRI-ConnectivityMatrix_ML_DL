{
 "cells": [
  {
   "cell_type": "code",
   "execution_count": null,
   "metadata": {},
   "outputs": [],
   "source": [
    "#!git clone https://github.com/hasan-rakibul/MADE-for-ASD.git"
   ]
  },
  {
   "cell_type": "code",
   "execution_count": null,
   "metadata": {},
   "outputs": [],
   "source": [
    "%cd MADE-for-ASD"
   ]
  },
  {
   "cell_type": "code",
   "execution_count": null,
   "metadata": {},
   "outputs": [],
   "source": [
    "%%capture\n",
    "!pip install -r requirements.txt"
   ]
  },
  {
   "cell_type": "code",
   "execution_count": null,
   "metadata": {},
   "outputs": [],
   "source": [
    "#!python download_data.py"
   ]
  },
  {
   "cell_type": "code",
   "execution_count": null,
   "metadata": {},
   "outputs": [],
   "source": [
    "#!python prepare_data.py --folds=10 --whole cc200 aal ez ho tt"
   ]
  },
  {
   "cell_type": "code",
   "execution_count": 3,
   "metadata": {},
   "outputs": [
    {
     "name": "stdout",
     "output_type": "stream",
     "text": [
      "/opt/homebrew/Caskroom/miniconda/base/envs/abide/lib/python3.10/site-packages/sklearn/model_selection/_search.py:320: UserWarning: The total space of parameters 3 is smaller than n_iter=5. Running 3 iterations. For exhaustive searches, use GridSearchCV.\n",
      "  warnings.warn(\n",
      "/opt/homebrew/Caskroom/miniconda/base/envs/abide/lib/python3.10/site-packages/sklearn/model_selection/_search.py:320: UserWarning: The total space of parameters 3 is smaller than n_iter=5. Running 3 iterations. For exhaustive searches, use GridSearchCV.\n",
      "  warnings.warn(\n",
      "/opt/homebrew/Caskroom/miniconda/base/envs/abide/lib/python3.10/site-packages/sklearn/model_selection/_search.py:320: UserWarning: The total space of parameters 3 is smaller than n_iter=5. Running 3 iterations. For exhaustive searches, use GridSearchCV.\n",
      "  warnings.warn(\n",
      "/opt/homebrew/Caskroom/miniconda/base/envs/abide/lib/python3.10/site-packages/sklearn/model_selection/_search.py:320: UserWarning: The total space of parameters 3 is smaller than n_iter=5. Running 3 iterations. For exhaustive searches, use GridSearchCV.\n",
      "  warnings.warn(\n",
      "/opt/homebrew/Caskroom/miniconda/base/envs/abide/lib/python3.10/site-packages/sklearn/model_selection/_search.py:320: UserWarning: The total space of parameters 3 is smaller than n_iter=5. Running 3 iterations. For exhaustive searches, use GridSearchCV.\n",
      "  warnings.warn(\n",
      "/opt/homebrew/Caskroom/miniconda/base/envs/abide/lib/python3.10/site-packages/sklearn/model_selection/_search.py:320: UserWarning: The total space of parameters 3 is smaller than n_iter=5. Running 3 iterations. For exhaustive searches, use GridSearchCV.\n",
      "  warnings.warn(\n",
      "exp                      acc      prec    recall    fscore      sens      spec\n",
      "------------------  --------  --------  --------  --------  --------  --------\n",
      "aal_whole           0.648052  0.659495  0.667469  0.662399  0.667469  0.628279\n",
      "cc200_whole         0.690584  0.694736  0.715634  0.7042    0.715634  0.664902\n",
      "dosenbach160_whole  0.642208  0.639756  0.681035  0.658868  0.681035  0.603657\n",
      "ez_whole            0.653247  0.658531  0.673607  0.665002  0.673607  0.633715\n",
      "ho_whole            0.676299  0.691211  0.684739  0.687095  0.684739  0.667796\n",
      "tt_whole            0.645779  0.635236  0.67726   0.655284  0.67726   0.614118\n",
      "\n",
      "Best parameters for each experiment:\n",
      "Experiment: aal_whole, Best Parameters: {'C': 0.1}\n",
      "Experiment: cc200_whole, Best Parameters: {'C': 0.1}\n",
      "Experiment: dosenbach160_whole, Best Parameters: {'C': 10}\n",
      "Experiment: ez_whole, Best Parameters: {'C': 0.1}\n",
      "Experiment: ho_whole, Best Parameters: {'C': 0.1}\n",
      "Experiment: tt_whole, Best Parameters: {'C': 0.1}\n"
     ]
    }
   ],
   "source": [
    "!python classifier_ml.py --whole --classifier=logistic cc200 aal ez ho tt dosenbach160"
   ]
  },
  {
   "cell_type": "code",
   "execution_count": 4,
   "metadata": {},
   "outputs": [
    {
     "name": "stdout",
     "output_type": "stream",
     "text": [
      "exp                      acc      prec    recall    fscore      sens      spec\n",
      "------------------  --------  --------  --------  --------  --------  --------\n",
      "aal_whole           0.625974  0.638703  0.652538  0.643329  0.652538  0.60043\n",
      "cc200_whole         0.66039   0.66145   0.706615  0.681058  0.706615  0.61491\n",
      "dosenbach160_whole  0.599351  0.595731  0.69011   0.635123  0.69011   0.512553\n",
      "ez_whole            0.632792  0.635043  0.686222  0.654748  0.686222  0.585049\n",
      "ho_whole            0.637662  0.650749  0.661293  0.654514  0.661293  0.614155\n",
      "tt_whole            0.64026   0.626664  0.71147   0.662774  0.71147   0.575543\n",
      "\n",
      "Best parameters for each experiment:\n",
      "Experiment: aal_whole, Best Parameters: {'n_estimators': 100, 'max_depth': None}\n",
      "Experiment: cc200_whole, Best Parameters: {'n_estimators': 200, 'max_depth': None}\n",
      "Experiment: dosenbach160_whole, Best Parameters: {'n_estimators': 200, 'max_depth': 20}\n",
      "Experiment: ez_whole, Best Parameters: {'n_estimators': 100, 'max_depth': 10}\n",
      "Experiment: ho_whole, Best Parameters: {'n_estimators': 200, 'max_depth': None}\n",
      "Experiment: tt_whole, Best Parameters: {'n_estimators': 200, 'max_depth': None}\n"
     ]
    }
   ],
   "source": [
    "!python classifier_ml.py --whole --classifier=random_forest cc200 aal ez ho tt dosenbach160"
   ]
  },
  {
   "cell_type": "code",
   "execution_count": 5,
   "metadata": {},
   "outputs": [
    {
     "name": "stdout",
     "output_type": "stream",
     "text": [
      "/opt/homebrew/Caskroom/miniconda/base/envs/abide/lib/python3.10/site-packages/sklearn/model_selection/_search.py:320: UserWarning: The total space of parameters 3 is smaller than n_iter=5. Running 3 iterations. For exhaustive searches, use GridSearchCV.\n",
      "  warnings.warn(\n",
      "Scaler for aal_whole: [ 0.23302906  0.46048594  1.16666667 16.80456875], [0.22330629 0.23694085 0.372678   7.91279347]\n",
      "/opt/homebrew/Caskroom/miniconda/base/envs/abide/lib/python3.10/site-packages/sklearn/model_selection/_search.py:320: UserWarning: The total space of parameters 3 is smaller than n_iter=5. Running 3 iterations. For exhaustive searches, use GridSearchCV.\n",
      "  warnings.warn(\n",
      "Scaler for cc200_whole: [ 0.01830293 -0.05343978  1.16826923 16.85848974], [0.16563236 0.19000217 0.37410519 7.81421522]\n",
      "/opt/homebrew/Caskroom/miniconda/base/envs/abide/lib/python3.10/site-packages/sklearn/model_selection/_search.py:320: UserWarning: The total space of parameters 3 is smaller than n_iter=5. Running 3 iterations. For exhaustive searches, use GridSearchCV.\n",
      "  warnings.warn(\n",
      "Scaler for dosenbach160_whole: [-1.27412103e-02 -2.99462013e-02  1.17467949e+00  1.69283886e+01], [0.15145596 0.15685617 0.37969272 8.14457337]\n",
      "/opt/homebrew/Caskroom/miniconda/base/envs/abide/lib/python3.10/site-packages/sklearn/model_selection/_search.py:320: UserWarning: The total space of parameters 3 is smaller than n_iter=5. Running 3 iterations. For exhaustive searches, use GridSearchCV.\n",
      "  warnings.warn(\n",
      "Scaler for ez_whole: [ 0.32360328  0.44728671  1.16987179 16.6741141 ], [0.23605223 0.23363873 0.37552013 8.05592113]\n",
      "/opt/homebrew/Caskroom/miniconda/base/envs/abide/lib/python3.10/site-packages/sklearn/model_selection/_search.py:320: UserWarning: The total space of parameters 3 is smaller than n_iter=5. Running 3 iterations. For exhaustive searches, use GridSearchCV.\n",
      "  warnings.warn(\n",
      "Scaler for ho_whole: [ 0.1553378   0.73131877  1.16185897 16.68804375], [0.18762518 0.14826393 0.36832139 7.55544637]\n",
      "/opt/homebrew/Caskroom/miniconda/base/envs/abide/lib/python3.10/site-packages/sklearn/model_selection/_search.py:320: UserWarning: The total space of parameters 3 is smaller than n_iter=5. Running 3 iterations. For exhaustive searches, use GridSearchCV.\n",
      "  warnings.warn(\n",
      "Scaler for tt_whole: [ 0.45587795  0.35865466  1.15705128 16.7289875 ], [0.1639275  0.18011251 0.36384911 8.038362  ]\n",
      "exp                      acc      prec    recall    fscore      sens      spec\n",
      "------------------  --------  --------  --------  --------  --------  --------\n",
      "aal_whole           0.649026  0.659263  0.672459  0.664795  0.672459  0.625139\n",
      "cc200_whole         0.688636  0.69407   0.709908  0.70124   0.709908  0.666721\n",
      "dosenbach160_whole  0.643182  0.641299  0.681256  0.659407  0.681256  0.605732\n",
      "ez_whole            0.656818  0.661886  0.678081  0.668621  0.678081  0.637147\n",
      "ho_whole            0.679545  0.69444   0.685874  0.689421  0.685874  0.673132\n",
      "tt_whole            0.65      0.640917  0.675146  0.657275  0.675146  0.624837\n",
      "\n",
      "Best parameters for each experiment:\n",
      "Experiment: aal_whole, Best Parameters: {'C': 0.1}\n",
      "Experiment: cc200_whole, Best Parameters: {'C': 10}\n",
      "Experiment: dosenbach160_whole, Best Parameters: {'C': 10}\n",
      "Experiment: ez_whole, Best Parameters: {'C': 0.1}\n",
      "Experiment: ho_whole, Best Parameters: {'C': 0.1}\n",
      "Experiment: tt_whole, Best Parameters: {'C': 0.1}\n"
     ]
    }
   ],
   "source": [
    "!python classifier_ml.py --whole --classifier=logistic cc200 aal ez ho tt dosenbach160 --use-phenotypic  "
   ]
  },
  {
   "cell_type": "code",
   "execution_count": 5,
   "metadata": {},
   "outputs": [
    {
     "name": "stdout",
     "output_type": "stream",
     "text": [
      "exp                      acc      prec    recall    fscore      sens      spec\n",
      "------------------  --------  --------  --------  --------  --------  --------\n",
      "aal_whole           0.635714  0.64369   0.674113  0.656538  0.674113  0.59714\n",
      "cc200_whole         0.656169  0.659818  0.697001  0.675361  0.697001  0.61728\n",
      "dosenbach160_whole  0.602922  0.597644  0.696716  0.638926  0.696716  0.513099\n",
      "ez_whole            0.629221  0.635917  0.673813  0.648192  0.673813  0.591612\n",
      "ho_whole            0.637662  0.650858  0.660821  0.654413  0.660821  0.614727\n",
      "tt_whole            0.629221  0.616724  0.699784  0.652342  0.699784  0.564456\n",
      "\n",
      "Best parameters for each experiment:\n",
      "Experiment: aal_whole, Best Parameters: {'n_estimators': 200, 'max_depth': 20}\n",
      "Experiment: cc200_whole, Best Parameters: {'n_estimators': 200, 'max_depth': 20}\n",
      "Experiment: dosenbach160_whole, Best Parameters: {'n_estimators': 200, 'max_depth': 20}\n",
      "Experiment: ez_whole, Best Parameters: {'n_estimators': 200, 'max_depth': None}\n",
      "Experiment: ho_whole, Best Parameters: {'n_estimators': 200, 'max_depth': None}\n",
      "Experiment: tt_whole, Best Parameters: {'n_estimators': 100, 'max_depth': 10}\n"
     ]
    }
   ],
   "source": [
    "!python classifier_ml.py --whole --classifier=random_forest cc200 aal ez ho tt dosenbach160 --use-phenotypic   "
   ]
  },
  {
   "cell_type": "code",
   "execution_count": 37,
   "metadata": {},
   "outputs": [
    {
     "name": "stdout",
     "output_type": "stream",
     "text": [
      "Training started for: cc200_whole\n",
      "Train Shape:\n",
      "X_combined shape: (931, 19902)\n",
      "y_combined length: 931\n",
      "----------------------------------------\n",
      "Test Shapes:\n",
      "X_all_combined shape: (104, 19902)\n",
      "y_all_combined length: 104\n",
      "Model saved as models/best_model_cc200_whole.joblib\n",
      "Training started for: aal_whole\n",
      "Train Shape:\n",
      "X_combined shape: (931, 19902)\n",
      "y_combined length: 931\n",
      "----------------------------------------\n",
      "Test Shapes:\n",
      "X_all_combined shape: (104, 19902)\n",
      "y_all_combined length: 104\n",
      "Model saved as models/best_model_aal_whole.joblib\n",
      "Training started for: ez_whole\n",
      "Train Shape:\n",
      "X_combined shape: (931, 19902)\n",
      "y_combined length: 931\n",
      "----------------------------------------\n",
      "Test Shapes:\n",
      "X_all_combined shape: (104, 19902)\n",
      "y_all_combined length: 104\n",
      "Model saved as models/best_model_ez_whole.joblib\n",
      "Training started for: ho_whole\n",
      "Train Shape:\n",
      "X_combined shape: (931, 19902)\n",
      "y_combined length: 931\n",
      "----------------------------------------\n",
      "Test Shapes:\n",
      "X_all_combined shape: (104, 19902)\n",
      "y_all_combined length: 104\n",
      "Model saved as models/best_model_ho_whole.joblib\n",
      "Training started for: tt_whole\n",
      "Train Shape:\n",
      "X_combined shape: (931, 19902)\n",
      "y_combined length: 931\n",
      "----------------------------------------\n",
      "Test Shapes:\n",
      "X_all_combined shape: (104, 19902)\n",
      "y_all_combined length: 104\n",
      "Model saved as models/best_model_tt_whole.joblib\n",
      "Training started for: dosenbach160_whole\n",
      "Train Shape:\n",
      "X_combined shape: (931, 19902)\n",
      "y_combined length: 931\n",
      "----------------------------------------\n",
      "Test Shapes:\n",
      "X_all_combined shape: (104, 19902)\n",
      "y_all_combined length: 104\n",
      "Model saved as models/best_model_dosenbach160_whole.joblib\n",
      "+--------------------+------------+-------------+----------+------------+--------------------+\n",
      "| Experiment         |   Accuracy |   Precision |   Recall |   F1-Score | Confusion Matrix   |\n",
      "+====================+============+=============+==========+============+====================+\n",
      "| cc200_whole        |   0.644231 |    0.647443 | 0.646296 |   0.643934 | [[35 15]           |\n",
      "|                    |            |             |          |            |  [22 32]]          |\n",
      "+--------------------+------------+-------------+----------+------------+--------------------+\n",
      "| aal_whole          |   0.644231 |    0.647443 | 0.646296 |   0.643934 | [[35 15]           |\n",
      "|                    |            |             |          |            |  [22 32]]          |\n",
      "+--------------------+------------+-------------+----------+------------+--------------------+\n",
      "| ez_whole           |   0.644231 |    0.647443 | 0.646296 |   0.643934 | [[35 15]           |\n",
      "|                    |            |             |          |            |  [22 32]]          |\n",
      "+--------------------+------------+-------------+----------+------------+--------------------+\n",
      "| ho_whole           |   0.644231 |    0.647443 | 0.646296 |   0.643934 | [[35 15]           |\n",
      "|                    |            |             |          |            |  [22 32]]          |\n",
      "+--------------------+------------+-------------+----------+------------+--------------------+\n",
      "| tt_whole           |   0.644231 |    0.647443 | 0.646296 |   0.643934 | [[35 15]           |\n",
      "|                    |            |             |          |            |  [22 32]]          |\n",
      "+--------------------+------------+-------------+----------+------------+--------------------+\n",
      "| dosenbach160_whole |   0.644231 |    0.647443 | 0.646296 |   0.643934 | [[35 15]           |\n",
      "|                    |            |             |          |            |  [22 32]]          |\n",
      "+--------------------+------------+-------------+----------+------------+--------------------+\n"
     ]
    }
   ],
   "source": [
    "!python evaluate_classifier_ml.py"
   ]
  }
 ],
 "metadata": {
  "kernelspec": {
   "display_name": "abide",
   "language": "python",
   "name": "python3"
  },
  "language_info": {
   "codemirror_mode": {
    "name": "ipython",
    "version": 3
   },
   "file_extension": ".py",
   "mimetype": "text/x-python",
   "name": "python",
   "nbconvert_exporter": "python",
   "pygments_lexer": "ipython3",
   "version": "3.10.13"
  }
 },
 "nbformat": 4,
 "nbformat_minor": 2
}
